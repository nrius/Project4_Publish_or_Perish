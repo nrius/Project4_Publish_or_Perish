{
 "cells": [
  {
   "cell_type": "code",
   "execution_count": null,
   "metadata": {},
   "outputs": [],
   "source": [
    "#script that uses pymed module to query pubmed. Parameters have been changed to collect data 5-year batches."
   ]
  },
  {
   "cell_type": "code",
   "execution_count": 5,
   "metadata": {},
   "outputs": [
    {
     "name": "stdout",
     "output_type": "stream",
     "text": [
      "your query is: 2000:2015[pdat] AND Spain[Affiliation], cancer\n",
      "we got the query results 31279\n",
      "we got the dictionary done\n",
      "31279\n",
      "files saved\n"
     ]
    }
   ],
   "source": [
    "from pymed import PubMed\n",
    "import csv\n",
    "import itertools\n",
    "import json\n",
    "import pandas as pd\n",
    "import pickle\n",
    "import numpy as np\n",
    "\n",
    "\n",
    "# Note that the parameters are not required but kindly requested by PubMed␣\n",
    "#,→Central\n",
    "# https://www.ncbi.nlm.nih.gov/pmc/tools/developers/\n",
    "\n",
    "\n",
    "\n",
    "\n",
    "pubmed = PubMed(tool=\"nuriastests12456\", email=\"nuria.rius.camps@gmail.com\", )\n",
    "\n",
    "\n",
    "\n",
    "query = \"2000:2015[pdat] AND Spain[Affiliation], cancer\"\n",
    "print(\"your query is:\", query)\n",
    "\n",
    "\n",
    "# Execute the query against the API\n",
    "results = list(pubmed.query(query, max_results=500000))\n",
    "\n",
    "print(\"we got the query results\", len(results))\n",
    "\n",
    "articleList = []\n",
    "articleInfo = []\n",
    "\n",
    "\n",
    "for article in results:\n",
    "# Print the type of object we've found (can be either PubMedBookArticle or PubMedArticle).\n",
    "# We need to convert it to dictionary with available function\n",
    "    articleDict = article.toDict()\n",
    "    articleList.append(articleDict)\n",
    "    \n",
    "\n",
    "\n",
    "# Generate list of dict records which will hold all article details that could be fetch from PUBMED API\n",
    "for article in articleList:\n",
    "#Sometimes article['pubmed_id'] contains list separated with comma - take first pubmedId in that list - thats article pubmedId\n",
    "    pubmedId = article['pubmed_id'].partition('\\n')[0]\n",
    "    # Append article info to dictionary \n",
    "    articleInfo.append({u'pubmed_id':pubmedId,\n",
    "                       u'title':article['title'],\n",
    "                       #u'keywords':article['keywords'], # comment this as wierd formating can raise errors\n",
    "                       #u'journal':article['journal'][0:25], #comment this as journal can raise errors\n",
    "                       #u'abstract':article['abstract'],\n",
    "                       #u'conclusions':article['conclusions'],\n",
    "                       #u'methods':article['methods'],\n",
    "                       #u'results': article['results'],\n",
    "                       #u'copyrights':article['copyrights'],\n",
    "                       u'doi':article['doi'],\n",
    "                       u'publication_date':article['publication_date'],\n",
    "                       u'authors':article['authors']})\n",
    "\n",
    "print(\"we got the dictionary done\")\n",
    "print(len(articleList) )   \n",
    "#store into csv and pickle file\n",
    "\n",
    "articlesPD = pd.DataFrame.from_dict(articleInfo)\n",
    "articlesPD.to_csv(\"article_dict_2000_2015_cancer_2.csv\")\n",
    "\n",
    "file_to_write = open(\"article_dict_2000_2015_cancer_2.pickle\", \"wb\")\n",
    "pickle.dump(articleInfo, file_to_write)\n",
    "print(\"files saved\")"
   ]
  },
  {
   "cell_type": "code",
   "execution_count": null,
   "metadata": {},
   "outputs": [],
   "source": []
  }
 ],
 "metadata": {
  "kernelspec": {
   "display_name": "Python 3",
   "language": "python",
   "name": "python3"
  },
  "language_info": {
   "codemirror_mode": {
    "name": "ipython",
    "version": 3
   },
   "file_extension": ".py",
   "mimetype": "text/x-python",
   "name": "python",
   "nbconvert_exporter": "python",
   "pygments_lexer": "ipython3",
   "version": "3.8.5"
  }
 },
 "nbformat": 4,
 "nbformat_minor": 4
}
